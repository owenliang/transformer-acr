{
 "cells": [
  {
   "cell_type": "code",
   "execution_count": 1,
   "id": "896b5e40",
   "metadata": {},
   "outputs": [],
   "source": [
    "import torch\n",
    "import math\n",
    "device=torch.device('cuda' if torch.cuda.is_available() else 'cpu')"
   ]
  },
  {
   "cell_type": "markdown",
   "id": "db349f58",
   "metadata": {},
   "source": [
    "模型"
   ]
  },
  {
   "cell_type": "code",
   "execution_count": 2,
   "id": "a0a03779",
   "metadata": {},
   "outputs": [],
   "source": [
    "AUDIO_FEATURE_SIZE=80\n",
    "D_MODEL=256\n",
    "NHEAD=4\n",
    "DIM_FEED_FORWARD=2048\n",
    "ENCODER_NUM_LAYERS=6\n",
    "DECODER_NUM_LAYERS=6\n",
    "MAX_SEQ_LEN=2000"
   ]
  },
  {
   "cell_type": "code",
   "execution_count": 3,
   "id": "91f73cf0",
   "metadata": {},
   "outputs": [],
   "source": [
    "class PositionalEmbedding(torch.nn.Module):\n",
    "    def __init__(self,dim,seq_max_len):\n",
    "        super().__init__()\n",
    "        position_idx=torch.arange(0,seq_max_len,dtype=torch.float).unsqueeze(-1)\n",
    "        position_emb_fill=position_idx*torch.exp(-torch.arange(0,dim,2)*math.log(10000.0)/dim)\n",
    "        pos_encoding=torch.zeros(seq_max_len,dim)\n",
    "        pos_encoding[:,0::2]=torch.sin(position_emb_fill)\n",
    "        pos_encoding[:,1::2]=torch.cos(position_emb_fill)\n",
    "        self.register_buffer('pos_encoding',pos_encoding) \n",
    "\n",
    "    def forward(self,x):    # x: (batch_size,seq_len)\n",
    "        x=x+self.pos_encoding.unsqueeze(0)[:,:x.size()[1],:] # x: (batch_size,seq_len,dim)\n",
    "        return x"
   ]
  },
  {
   "cell_type": "code",
   "execution_count": 4,
   "id": "d21daa9f",
   "metadata": {},
   "outputs": [],
   "source": [
    "class TransformerASR(torch.nn.Module):\n",
    "    def __init__(self,vocab_size):\n",
    "        super().__init__()\n",
    "        self.audio_fc=torch.nn.Sequential(\n",
    "            torch.nn.Linear(in_features=AUDIO_FEATURE_SIZE,out_features=D_MODEL),\n",
    "            torch.nn.ReLU(),\n",
    "            torch.nn.Linear(in_features=D_MODEL,out_features=D_MODEL)\n",
    "        )\n",
    "        self.pos_emb=PositionalEmbedding(dim=D_MODEL,seq_max_len=MAX_SEQ_LEN)\n",
    "        self.encoder=torch.nn.TransformerEncoder(\n",
    "            encoder_layer=torch.nn.TransformerEncoderLayer(d_model=D_MODEL,nhead=NHEAD,dim_feedforward=DIM_FEED_FORWARD,batch_first=True,norm_first=True),\n",
    "            num_layers=ENCODER_NUM_LAYERS\n",
    "        )\n",
    "        self.token_emb=torch.nn.Embedding(num_embeddings=vocab_size,embedding_dim=D_MODEL)\n",
    "        self.decoder=torch.nn.TransformerDecoder(\n",
    "            decoder_layer=torch.nn.TransformerDecoderLayer(d_model=D_MODEL,nhead=NHEAD,dim_feedforward=DIM_FEED_FORWARD,batch_first=True,norm_first=True),\n",
    "            num_layers=DECODER_NUM_LAYERS\n",
    "        )\n",
    "        self.prob_fc=torch.nn.Linear(D_MODEL,vocab_size)\n",
    "\n",
    "    def encode(self,audio_features,audio_pad_mask):\n",
    "        audio_features=self.audio_fc(audio_features)\n",
    "        audio_features=self.pos_emb(audio_features)\n",
    "        enc_out=self.encoder(audio_features,src_key_padding_mask=audio_pad_mask)\n",
    "        return enc_out\n",
    "    \n",
    "    def decode(self,enc_out,audio_pad_mask,token_ids,token_pad_mask):\n",
    "        token_embs=self.token_emb(token_ids)\n",
    "        token_embs=self.pos_emb(token_embs)\n",
    "        tokens_causal_mask=torch.triu(torch.ones(token_ids.size()[1],token_ids.size()[1]),diagonal=1).type(torch.bool).to(token_ids.device)\n",
    "        dec_out=self.decoder(tgt=token_embs,memory=enc_out,tgt_mask=tokens_causal_mask,tgt_key_padding_mask=token_pad_mask,memory_key_padding_mask=audio_pad_mask)\n",
    "        final_out=self.prob_fc(dec_out)\n",
    "        return final_out\n",
    "    \n",
    "    def forward(self,audio_features,audio_pad_mask,token_ids,token_pad_mask):\n",
    "        enc_out=self.encode(audio_features,audio_pad_mask)\n",
    "        final_out=self.decode(enc_out,audio_pad_mask,token_ids,token_pad_mask)\n",
    "        return final_out"
   ]
  },
  {
   "cell_type": "code",
   "execution_count": 5,
   "id": "7f1610df",
   "metadata": {},
   "outputs": [
    {
     "name": "stderr",
     "output_type": "stream",
     "text": [
      "c:\\Users\\owen\\miniconda3\\envs\\transformer-acr\\lib\\site-packages\\torch\\nn\\modules\\transformer.py:306: UserWarning: enable_nested_tensor is True, but self.use_nested_tensor is False because encoder_layer.norm_first was True\n",
      "  warnings.warn(f\"enable_nested_tensor is True, but self.use_nested_tensor is False because {why_not_sparsity_fast_path}\")\n"
     ]
    },
    {
     "data": {
      "text/plain": [
       "torch.Size([1, 13, 500])"
      ]
     },
     "execution_count": 5,
     "metadata": {},
     "output_type": "execute_result"
    }
   ],
   "source": [
    "from process_data import load_metadata,load_sample,load_tokenizer\n",
    "\n",
    "tokenizer=load_tokenizer()\n",
    "\n",
    "train_metas=load_metadata('data/train.txt')\n",
    "sample=load_sample(train_metas[0])\n",
    "\n",
    "audio_features=sample['audio_features'].unsqueeze(0)\n",
    "audio_pad_mask=torch.zeros(audio_features.size(0),audio_features.size(1)).bool()\n",
    "token_ids=torch.tensor(sample['tokens'].ids[:-1],dtype=torch.long).unsqueeze(0)\n",
    "token_pad_mask=torch.zeros_like(token_ids).bool()\n",
    "\n",
    "model=TransformerASR(vocab_size=tokenizer.get_vocab_size())\n",
    "dec_out=model(audio_features,audio_pad_mask,token_ids,token_pad_mask)\n",
    "dec_out.shape"
   ]
  },
  {
   "cell_type": "markdown",
   "id": "b166dfd2",
   "metadata": {},
   "source": [
    "数据集"
   ]
  },
  {
   "cell_type": "code",
   "execution_count": 6,
   "id": "a04a8523",
   "metadata": {},
   "outputs": [],
   "source": [
    "class LRS2Dataset:\n",
    "    def __init__(self,split='train'):\n",
    "        self.metas=load_metadata(f'data/{split}.txt')\n",
    "    \n",
    "    def __len__(self):\n",
    "        return len(self.metas)\n",
    "    \n",
    "    def __getitem__(self,idx):\n",
    "        metaname=self.metas[idx]\n",
    "        sample=load_sample(metaname)\n",
    "        \n",
    "        audio_features=sample['audio_features']\n",
    "        token_ids=torch.tensor(sample['tokens'].ids,dtype=torch.long)\n",
    "        return audio_features,token_ids"
   ]
  },
  {
   "cell_type": "code",
   "execution_count": 7,
   "id": "f0f1ecb0",
   "metadata": {},
   "outputs": [
    {
     "name": "stdout",
     "output_type": "stream",
     "text": [
      "audio_features:torch.Size([139, 80]),token_ids:torch.Size([14])\n"
     ]
    }
   ],
   "source": [
    "train_ds=LRS2Dataset(split='train')\n",
    "audio_features,token_ids=train_ds[0]\n",
    "print(f'audio_features:{audio_features.shape},token_ids:{token_ids.shape}')"
   ]
  },
  {
   "cell_type": "markdown",
   "id": "d3663512",
   "metadata": {},
   "source": [
    "训练"
   ]
  },
  {
   "cell_type": "code",
   "execution_count": 8,
   "id": "a7762cce",
   "metadata": {},
   "outputs": [],
   "source": [
    "LR=1e-4\n",
    "EPOCHS=50\n",
    "BATCH_SIZE=48\n",
    "CHECKPOINT='checkpoint.pt'"
   ]
  },
  {
   "cell_type": "code",
   "execution_count": 9,
   "id": "43636200",
   "metadata": {},
   "outputs": [
    {
     "name": "stdout",
     "output_type": "stream",
     "text": [
      "\n",
      "batch_audio_features.shape: torch.Size([48, 548, 80]) \n",
      "batch_audio_pad_mask.shape: torch.Size([48, 548]) \n",
      "batch_token_ids.shape: torch.Size([48, 37]) \n",
      "batch_token_pad_mask.shape: torch.Size([48, 37]) \n",
      "batch_next_token_ids.shape: torch.Size([48, 37])\n",
      "\n"
     ]
    }
   ],
   "source": [
    "import torch.utils\n",
    "\n",
    "def collate_fn(batch):\n",
    "    batch_audio_features=[]\n",
    "    batch_token_ids=[]\n",
    "    batch_token_pad_mask=[]\n",
    "    max_audio_steps=0\n",
    "    max_token_lens=0\n",
    "    for sample in batch:\n",
    "        batch_audio_features.append(sample[0])\n",
    "        batch_token_ids.append(sample[1])\n",
    "        max_audio_steps=max(max_audio_steps,len(sample[0]))\n",
    "        max_token_lens=max(max_token_lens,len(sample[1]))\n",
    "    # audio features padding zero\n",
    "    batch_audio_pad_mask=[]\n",
    "    for i,audio_features in enumerate(batch_audio_features):\n",
    "        batch_audio_features[i]=torch.cat([audio_features,torch.zeros(max_audio_steps-len(audio_features),audio_features.shape[1])])\n",
    "        batch_audio_pad_mask.append(torch.cat([torch.zeros(len(audio_features)),torch.ones(max_audio_steps-len(audio_features))]))\n",
    "    # token ids padding [PAD]\n",
    "    pad=tokenizer.token_to_id('[PAD]')\n",
    "    for i,token_ids in enumerate(batch_token_ids):\n",
    "        batch_token_ids[i]=torch.cat([token_ids,torch.full((max_token_lens-len(token_ids),),pad)])\n",
    "        batch_token_pad_mask.append(torch.cat([torch.zeros(len(token_ids)),torch.ones(max_token_lens-len(token_ids))]))\n",
    "    \n",
    "    # decoder inputs & outputs\n",
    "    batch_next_token_ids=[]\n",
    "    for i,token_ids in enumerate(batch_token_ids):\n",
    "        batch_next_token_ids.append(token_ids[1:])\n",
    "        batch_token_ids[i]=token_ids[:-1]\n",
    "        batch_token_pad_mask[i]=batch_token_pad_mask[i][:-1]\n",
    "    return torch.stack(batch_audio_features,dim=0),\\\n",
    "        torch.stack(batch_audio_pad_mask,dim=0).bool(),\\\n",
    "        torch.stack(batch_token_ids,dim=0),\\\n",
    "        torch.stack(batch_token_pad_mask,dim=0).bool(),\\\n",
    "        torch.stack(batch_next_token_ids,dim=0)\n",
    "        \n",
    "train_ds=LRS2Dataset(split='train')\n",
    "dataloader=torch.utils.data.DataLoader(dataset=train_ds,batch_size=BATCH_SIZE,shuffle=True,collate_fn=collate_fn)\n",
    "batch_audio_features,batch_audio_pad_mask,batch_token_ids,batch_token_pad_mask,batch_next_token_ids=next(iter(dataloader))\n",
    "# 打印所有形状\n",
    "print(f'''\n",
    "batch_audio_features.shape: {batch_audio_features.shape} \n",
    "batch_audio_pad_mask.shape: {batch_audio_pad_mask.shape} \n",
    "batch_token_ids.shape: {batch_token_ids.shape} \n",
    "batch_token_pad_mask.shape: {batch_token_pad_mask.shape} \n",
    "batch_next_token_ids.shape: {batch_next_token_ids.shape}\n",
    "''')"
   ]
  },
  {
   "cell_type": "code",
   "execution_count": 10,
   "id": "d9dbdafb",
   "metadata": {},
   "outputs": [
    {
     "name": "stderr",
     "output_type": "stream",
     "text": [
      "c:\\Users\\owen\\miniconda3\\envs\\transformer-acr\\lib\\site-packages\\torch\\nn\\modules\\transformer.py:306: UserWarning: enable_nested_tensor is True, but self.use_nested_tensor is False because encoder_layer.norm_first was True\n",
      "  warnings.warn(f\"enable_nested_tensor is True, but self.use_nested_tensor is False because {why_not_sparsity_fast_path}\")\n"
     ]
    },
    {
     "name": "stdout",
     "output_type": "stream",
     "text": [
      "\u001b[1m\u001b[34mswanlab\u001b[0m\u001b[0m: swanlab version 0.6.4 is available!  Upgrade: `pip install -U swanlab`    \n",
      "\u001b[1m\u001b[34mswanlab\u001b[0m\u001b[0m: Tracking run with swanlab version 0.6.1                                   \n",
      "\u001b[1m\u001b[34mswanlab\u001b[0m\u001b[0m: Run data will be saved locally in \u001b[35m\u001b[1mc:\\Users\\owen\\Documents\\VsCode\\transformer-acr\\swanlog\\run-20250622_155011-ab81f83f\u001b[0m\u001b[0m\n",
      "\u001b[1m\u001b[34mswanlab\u001b[0m\u001b[0m: 👋 Hi \u001b[1m\u001b[39mowenliang\u001b[0m\u001b[0m, welcome to swanlab!\n",
      "\u001b[1m\u001b[34mswanlab\u001b[0m\u001b[0m: Syncing run \u001b[33mexperiment-20250622-155010\u001b[0m to the cloud\n",
      "\u001b[1m\u001b[34mswanlab\u001b[0m\u001b[0m: 🏠 View project at \u001b[34m\u001b[4mhttps://swanlab.cn/@owenliang/transformer-acr\u001b[0m\u001b[0m\n",
      "\u001b[1m\u001b[34mswanlab\u001b[0m\u001b[0m: 🚀 View run at \u001b[34m\u001b[4mhttps://swanlab.cn/@owenliang/transformer-acr/runs/v82evkjj682vc5uju33jo\u001b[0m\u001b[0m\n"
     ]
    },
    {
     "data": {
      "text/html": [
       "\n",
       "<!DOCTYPE html>\n",
       "<html lang=\"en\">\n",
       "<head>\n",
       "    <meta charset=\"UTF-8\">\n",
       "    <meta name=\"viewport\" content=\"width=device-width, initial-scale=1.0\">\n",
       "    <title>Show Iframe</title>\n",
       "    \n",
       "        <script>\n",
       "            function showIframe() {\n",
       "                var iframeHtml = '<iframe src=\"https://swanlab.cn/@owenliang/transformer-acr/runs/v82evkjj682vc5uju33jo\" width=100% height=\"600\" frameborder=\"no\"></iframe>';\n",
       "                document.getElementById('iframeContainer').innerHTML = iframeHtml;\n",
       "            }\n",
       "        </script>\n",
       "        \n",
       "</head>\n",
       "<body>\n",
       "    <style>\n",
       "        .interactive-button {\n",
       "            display: flex;\n",
       "            align-items: center;\n",
       "            height: 36px;\n",
       "            border: 0px;\n",
       "            background-color: #2c8f63;\n",
       "            color: white;\n",
       "            padding: 10px 20px;\n",
       "            transition: background-color 0.3s, transform 0.2s;\n",
       "        }\n",
       "\n",
       "        .interactive-button:hover {\n",
       "            background-color: #5cab87;\n",
       "            cursor: pointer;\n",
       "        }\n",
       "\n",
       "        .interactive-button:active { background-color: #217952; transform: scale(0.96); } </style> <br> <button \n",
       "        onclick=\"showIframe()\" class=\"interactive-button\"> <svg style=\"height: 16px; margin-right: 8px;\" viewBox=\"0 0 \n",
       "        46 46\" fill=\"none\"> <path d=\"M10.8439 21.1974C10.6414 21.2854 10.4477 21.3925 10.2655 21.5173L10.2069 \n",
       "        21.5652C10.1839 21.58 10.1625 21.5969 10.1429 21.6159C6.29135 24.6118 4.22831 29.4416 5.32646 34.282C5.94656 \n",
       "        37.0577 7.50461 39.5348 9.73801 41.2958C11.9714 43.0568 14.7436 43.994 17.5874 43.9495H18.0219C19.8864 \n",
       "        43.8697 21.7087 43.3694 23.3526 42.486C24.9964 41.6026 26.4193 40.3589 27.5147 38.848C28.61 37.3371 29.3496 \n",
       "        35.598 29.678 33.761C30.0065 31.9239 29.9153 30.0363 29.4112 28.2395C28.9181 26.4723 27.8919 24.8437 26.9937 \n",
       "        23.2551C25.4158 20.4653 23.8343 17.6764 22.2492 14.8884C21.7801 14.0647 21.3057 13.2465 20.8419 \n",
       "        12.4228C20.2315 11.3353 19.2746 10.1519 19.224 8.86183C19.1733 7.57176 20.2235 6.32701 21.5082 \n",
       "        6.07912C23.9284 5.61801 25.0639 8.24078 25.0693 8.23812C25.363 8.94035 25.9123 9.50489 26.6063 \n",
       "        9.81764C27.3002 10.1304 28.087 10.168 28.8077 9.92298C29.5283 9.67791 30.1291 9.1684 30.4885 8.49743C30.8479 \n",
       "        7.82646 30.9392 7.04405 30.7439 6.30835C30.1514 4.37314 28.9133 2.69953 27.2363 1.56656C25.7615 0.511704 \n",
       "        23.9847 -0.0372109 22.1719 0.00195984C20.9049 0.00893199 19.6532 0.27989 18.4967 0.797557C17.3402 1.31522 \n",
       "        16.3043 2.06823 15.4551 3.00856C14.49 4.08707 13.7984 5.38193 13.4389 6.78385C13.0794 8.18576 13.0624 9.6536 \n",
       "        13.3894 11.0635C13.52 11.593 13.6984 12.1095 13.9225 12.6067C14.5595 14.0514 15.4951 15.3681 16.284 \n",
       "        16.7355C17.2525 18.4147 18.2209 20.0948 19.1893 21.7758C20.1578 23.4568 21.1351 25.1449 22.1213 \n",
       "        26.8401C22.9209 28.2421 23.7925 29.4682 23.8805 31.1528C23.9175 32.0513 23.7682 32.9479 23.4419 \n",
       "        33.7859C23.1156 34.6239 22.6194 35.3854 21.9845 36.0223C21.3496 36.6592 20.5897 37.1578 19.7527 \n",
       "        37.4868C18.9157 37.8157 18.0196 37.9678 17.121 37.9336C14.0024 37.7923 11.6488 35.4814 11.1744 32.4588C10.58 \n",
       "        28.6419 13.552 26.5469 13.552 26.5469C14.1782 26.1785 14.6497 25.5955 14.8791 24.906C15.1084 24.2166 15.0801 \n",
       "        23.4673 14.7993 22.7971C14.5186 22.127 14.0044 21.5813 13.3521 21.2611C12.6998 20.941 11.9536 20.8682 11.2517 \n",
       "        21.0561C11.1174 21.0939 10.9856 21.1402 10.8572 21.1947\" fill=\"white\" /> <path d=\"M42.8101 31.5968C42.8109 \n",
       "        30.5198 42.7218 29.4445 42.5435 28.3823C42.2663 26.7069 41.7464 25.0808 41.0002 23.5552C40.5524 22.6463 \n",
       "        39.9874 21.7374 39.1024 21.2417C38.6593 20.9919 38.1589 20.8617 37.6502 20.8639C37.1416 20.8661 36.6423 \n",
       "        21.0006 36.2013 21.2541C35.7604 21.5077 35.393 21.8716 35.1352 22.3101C34.8775 22.7485 34.7382 23.2466 \n",
       "        34.7312 23.7552C34.7072 24.8773 35.3149 25.8875 35.768 26.9217C36.5212 28.6453 36.8623 30.5208 36.7642 \n",
       "        32.3993C36.6661 34.2777 36.1315 36.1075 35.2029 37.7433C35.146 37.8404 35.0952 37.941 35.051 38.0445C34.8623 \n",
       "        38.4842 34.7635 38.9573 34.7605 39.4358C34.7802 40.1222 35.0356 40.7808 35.4835 41.3011C35.9315 41.8214 \n",
       "        36.5449 42.1717 37.2207 42.2932C38.8759 42.589 40.1899 41.347 40.8856 39.9609C42.1643 37.3589 42.823 34.4961 \n",
       "        42.8101 31.5968Z\" fill=\"white\" /> <path d=\"M28.2309 11.8938C28.1761 11.9043 28.1218 11.9176 28.0683 \n",
       "        11.9338C27.9593 11.9642 27.8611 12.0249 27.7851 12.1088C27.7091 12.1928 27.6584 12.2965 27.6389 \n",
       "        12.408C27.6193 12.5195 27.6318 12.6343 27.6748 12.7391C27.7178 12.8438 27.7895 12.9343 27.8818 \n",
       "        12.9999C29.2375 14.0252 30.3809 15.3043 31.2482 16.7662C31.4838 17.1677 31.6888 17.5865 31.8612 \n",
       "        18.0189C32.0052 18.3921 32.1971 18.8799 32.6822 18.8532C33.0607 18.8346 33.2153 18.512 33.3192 \n",
       "        18.1895C33.8137 16.5125 33.9678 14.7534 33.7723 13.0159C33.6331 12.0693 33.4155 11.1359 33.122 \n",
       "        10.2252C33.0775 10.0047 32.9744 9.80029 32.8235 9.6335C32.7273 9.54627 32.6054 9.49262 32.4761 9.4806C32.3468 \n",
       "        9.46859 32.2171 9.49886 32.1065 9.56687C32.0016 9.65188 31.9115 9.75365 31.8399 9.86806C31.3956 10.4658 \n",
       "        30.825 10.9581 30.1687 11.3101C29.8377 11.4861 29.4893 11.6272 29.1292 11.7312C28.828 11.8192 28.5215 11.8325 \n",
       "        28.2309 11.8938Z\" fill=\"white\" /> </svg> Display SwanLab Board </button> <br> <div \n",
       "        id=\"iframeContainer\"></div> </body> </html>"
      ],
      "text/plain": [
       "<IPython.core.display.HTML object>"
      ]
     },
     "metadata": {},
     "output_type": "display_data"
    },
    {
     "name": "stderr",
     "output_type": "stream",
     "text": [
      "c:\\Users\\owen\\miniconda3\\envs\\transformer-acr\\lib\\site-packages\\torch\\nn\\functional.py:5504: UserWarning: 1Torch was not compiled with flash attention. (Triggered internally at C:\\cb\\pytorch_1000000000000\\work\\aten\\src\\ATen\\native\\transformers\\cuda\\sdp_utils.cpp:455.)\n",
      "  attn_output = scaled_dot_product_attention(q, k, v, attn_mask, dropout_p, is_causal)\n"
     ]
    },
    {
     "name": "stdout",
     "output_type": "stream",
     "text": [
      "\u001b[1m\u001b[34mswanlab\u001b[0m\u001b[0m: 🏠 View project at \u001b[34m\u001b[4mhttps://swanlab.cn/@owenliang/transformer-acr\u001b[0m\u001b[0m\n",
      "\u001b[1m\u001b[34mswanlab\u001b[0m\u001b[0m: 🚀 View run at \u001b[34m\u001b[4mhttps://swanlab.cn/@owenliang/transformer-acr/runs/v82evkjj682vc5uju33jo\u001b[0m\u001b[0m\n",
      "                                                                                                    \n"
     ]
    }
   ],
   "source": [
    "import time\n",
    "import os \n",
    "from torch.optim.lr_scheduler import LinearLR\n",
    "import swanlab #pip install swanlab\n",
    "#swanlab.login(api_key='your-api-key', save=True)\n",
    "\n",
    "def train(use_swanlab=False):    \n",
    "    train_ds=LRS2Dataset(split='train')\n",
    "    dataloader=torch.utils.data.DataLoader(dataset=train_ds,batch_size=BATCH_SIZE,shuffle=True,collate_fn=collate_fn)\n",
    "    model=TransformerASR(vocab_size=tokenizer.get_vocab_size()).to(device)\n",
    "    optimizer=torch.optim.Adam(model.parameters(),lr=LR)\n",
    "    scheduler=LinearLR(\n",
    "        optimizer,\n",
    "        start_factor=1.0,       \n",
    "        end_factor=0.1,\n",
    "        total_iters=EPOCHS\n",
    "    )\n",
    "    loss_fn=torch.nn.CrossEntropyLoss(ignore_index=tokenizer.token_to_id('[PAD]'))\n",
    "    if os.path.exists(CHECKPOINT):\n",
    "        checkpoint=torch.load(CHECKPOINT)\n",
    "        model.load_state_dict(checkpoint['model_state_dict'])\n",
    "        optimizer.load_state_dict(checkpoint['optimizer_state_dict'])\n",
    "    if use_swanlab:\n",
    "        swanlab.init(\n",
    "            project='transformer-acr',\n",
    "            experiment_name=f'experiment-{time.strftime(\"%Y%m%d-%H%M%S\")}',\n",
    "            description='Transformer ASR Training With LRS2 Dataset',\n",
    "            config={\n",
    "                'lr':LR,\n",
    "                'architecture':str(model),\n",
    "                'dataset':'LRS2',\n",
    "                'epochs':EPOCHS,\n",
    "                'batch_size':BATCH_SIZE,\n",
    "            }\n",
    "        )\n",
    "    model.train()\n",
    "    try:\n",
    "        samples=0\n",
    "        for epoch in range(EPOCHS):\n",
    "            for batch_audio_features,batch_audio_pad_mask,batch_token_ids,batch_token_pad_mask,batch_next_token_ids in dataloader:\n",
    "                batch_audio_features,batch_audio_pad_mask,batch_token_ids,batch_token_pad_mask,batch_next_token_ids=batch_audio_features.to(device),batch_audio_pad_mask.to(device),batch_token_ids.to(device),batch_token_pad_mask.to(device),batch_next_token_ids.to(device)\n",
    "                probs=model(batch_audio_features,batch_audio_pad_mask,batch_token_ids,batch_token_pad_mask)\n",
    "                probs=probs.view(-1,probs.shape[-1])\n",
    "                loss=loss_fn(probs,batch_next_token_ids.flatten())\n",
    "                optimizer.zero_grad()\n",
    "                loss.backward()\n",
    "                optimizer.step()\n",
    "                samples+=len(batch_audio_features)\n",
    "                if use_swanlab:\n",
    "                    swanlab.log({'loss':loss.item(),'epoch':samples/len(train_ds),'samples':samples,'lr':optimizer.param_groups[0]['lr']})\n",
    "                else:\n",
    "                    print(f'loss: {loss.item()}, epoch: {samples/len(train_ds)}, samples: {samples}, lr: {optimizer.param_groups[0][\"lr\"]}')\n",
    "            torch.save({'model_state_dict':model.state_dict(),'optimizer_state_dict':optimizer.state_dict()},CHECKPOINT)\n",
    "            scheduler.step()\n",
    "    finally: \n",
    "        if use_swanlab:\n",
    "            swanlab.finish()\n",
    "\n",
    "train(use_swanlab=True)"
   ]
  },
  {
   "cell_type": "markdown",
   "id": "345fa241",
   "metadata": {},
   "source": [
    "推理"
   ]
  },
  {
   "cell_type": "code",
   "execution_count": 11,
   "id": "9ea61034",
   "metadata": {},
   "outputs": [],
   "source": [
    "from process_data import decode\n",
    "def asr(model,tokenizer,audio_features):\n",
    "    model.eval()\n",
    "    audio_features=audio_features.unsqueeze(0).to(device)\n",
    "    audio_pad_mask=torch.zeros(audio_features.size(0),audio_features.size(1)).bool().to(device)\n",
    "    enc_out=model.encode(audio_features,audio_pad_mask)\n",
    "    token_ids_list=[tokenizer.token_to_id('[BOS]')]\n",
    "    while True:\n",
    "        token_ids=torch.tensor(token_ids_list,dtype=torch.long).unsqueeze(0).to(device)\n",
    "        token_pad_mask=torch.zeros_like(token_ids).bool().to(device)\n",
    "        dec_out=model.decode(enc_out,audio_pad_mask,token_ids,token_pad_mask)\n",
    "        next_token_id=torch.argmax(dec_out[0,-1,:])\n",
    "        if next_token_id==tokenizer.token_to_id('[EOS]'):\n",
    "            break\n",
    "        token_ids_list.append(next_token_id)\n",
    "    return decode(tokenizer,token_ids_list)"
   ]
  },
  {
   "cell_type": "code",
   "execution_count": 28,
   "id": "024d8582",
   "metadata": {},
   "outputs": [
    {
     "name": "stdout",
     "output_type": "stream",
     "text": [
      "Path:6331559613336179781/00038\n",
      "AND IF YOU'RE ONE WITH FALL\n"
     ]
    }
   ],
   "source": [
    "from process_data import load_metadata,load_sample,load_tokenizer\n",
    "\n",
    "test_metas=load_metadata('data/test.txt')\n",
    "sample=load_sample(test_metas[10])\n",
    "print(f'Path:{test_metas[10]}')\n",
    "\n",
    "tokenizer=load_tokenizer()\n",
    "model=TransformerASR(vocab_size=tokenizer.get_vocab_size()).to(device)\n",
    "checkpoint=torch.load(CHECKPOINT)\n",
    "model.load_state_dict(checkpoint['model_state_dict'])\n",
    "\n",
    "text=asr(model,tokenizer,sample['audio_features'])\n",
    "print(text)"
   ]
  }
 ],
 "metadata": {
  "kernelspec": {
   "display_name": "transformer-acr",
   "language": "python",
   "name": "python3"
  },
  "language_info": {
   "codemirror_mode": {
    "name": "ipython",
    "version": 3
   },
   "file_extension": ".py",
   "mimetype": "text/x-python",
   "name": "python",
   "nbconvert_exporter": "python",
   "pygments_lexer": "ipython3",
   "version": "3.10.16"
  }
 },
 "nbformat": 4,
 "nbformat_minor": 5
}
