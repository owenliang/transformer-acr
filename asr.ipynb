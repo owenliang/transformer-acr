{
 "cells": [
  {
   "cell_type": "code",
   "execution_count": null,
   "id": "896b5e40",
   "metadata": {},
   "outputs": [],
   "source": [
    "import torch\n",
    "import math\n",
    "device=torch.device('cuda' if torch.cuda.is_available() else 'cpu')"
   ]
  },
  {
   "cell_type": "markdown",
   "id": "db349f58",
   "metadata": {},
   "source": [
    "模型"
   ]
  },
  {
   "cell_type": "code",
   "execution_count": null,
   "id": "a0a03779",
   "metadata": {},
   "outputs": [],
   "source": [
    "AUDIO_FEATURE_SIZE=80\n",
    "D_MODEL=512\n",
    "NHEAD=8\n",
    "DIM_FEED_FORWARD=2048\n",
    "ENCODER_NUM_LAYERS=6\n",
    "DECODER_NUM_LAYERS=6\n",
    "MAX_SEQ_LEN=2000"
   ]
  },
  {
   "cell_type": "code",
   "execution_count": null,
   "id": "91f73cf0",
   "metadata": {},
   "outputs": [],
   "source": [
    "class PositionalEmbedding(torch.nn.Module):\n",
    "    def __init__(self,dim,seq_max_len):\n",
    "        super().__init__()\n",
    "        position_idx=torch.arange(0,seq_max_len,dtype=torch.float).unsqueeze(-1)\n",
    "        position_emb_fill=position_idx*torch.exp(-torch.arange(0,dim,2)*math.log(10000.0)/dim)\n",
    "        pos_encoding=torch.zeros(seq_max_len,dim)\n",
    "        pos_encoding[:,0::2]=torch.sin(position_emb_fill)\n",
    "        pos_encoding[:,1::2]=torch.cos(position_emb_fill)\n",
    "        self.register_buffer('pos_encoding',pos_encoding) \n",
    "\n",
    "    def forward(self,x):    # x: (batch_size,seq_len)\n",
    "        x=x+self.pos_encoding.unsqueeze(0)[:,:x.size()[1],:] # x: (batch_size,seq_len,dim)\n",
    "        return x"
   ]
  },
  {
   "cell_type": "code",
   "execution_count": null,
   "id": "d21daa9f",
   "metadata": {},
   "outputs": [],
   "source": [
    "class TransformerASR(torch.nn.Module):\n",
    "    def __init__(self,vocab_size):\n",
    "        super().__init__()\n",
    "        self.audio_fc=torch.nn.Sequential(\n",
    "            torch.nn.Linear(in_features=AUDIO_FEATURE_SIZE,out_features=D_MODEL),\n",
    "            torch.nn.ReLU(),\n",
    "            torch.nn.Linear(in_features=D_MODEL,out_features=D_MODEL)\n",
    "        )\n",
    "        self.pos_emb=PositionalEmbedding(dim=D_MODEL,seq_max_len=MAX_SEQ_LEN)\n",
    "        self.encoder=torch.nn.TransformerEncoder(\n",
    "            encoder_layer=torch.nn.TransformerEncoderLayer(d_model=D_MODEL,nhead=NHEAD,dim_feedforward=DIM_FEED_FORWARD,batch_first=True),\n",
    "            num_layers=ENCODER_NUM_LAYERS\n",
    "        )\n",
    "        self.token_emb=torch.nn.Embedding(num_embeddings=vocab_size,embedding_dim=D_MODEL)\n",
    "        self.decoder=torch.nn.TransformerDecoder(\n",
    "            decoder_layer=torch.nn.TransformerDecoderLayer(d_model=D_MODEL,nhead=NHEAD,dim_feedforward=DIM_FEED_FORWARD,batch_first=True),\n",
    "            num_layers=DECODER_NUM_LAYERS\n",
    "        )\n",
    "        self.prob_fc=torch.nn.Linear(D_MODEL,vocab_size)\n",
    "    \n",
    "    def forward(self,audio_features,audio_pad_mask,token_ids,token_pad_mask):\n",
    "        audio_features=self.audio_fc(audio_features)\n",
    "        audio_features=self.pos_emb(audio_features)\n",
    "        audio_causal_mask=torch.triu(torch.ones(audio_features.size()[1],audio_features.size()[1]),diagonal=1).type(torch.bool).to(audio_features.device)\n",
    "        enc_out=self.encoder(audio_features,mask=audio_causal_mask,src_key_padding_mask=audio_pad_mask)\n",
    "        token_embs=self.token_emb(token_ids)\n",
    "        token_embs=self.pos_emb(token_embs)\n",
    "        tokens_causal_mask=torch.triu(torch.ones(token_ids.size()[1],token_ids.size()[1]),diagonal=1).type(torch.bool).to(token_ids.device)\n",
    "        dec_out=self.decoder(tgt=token_embs,memory=enc_out,tgt_mask=tokens_causal_mask,tgt_key_padding_mask=token_pad_mask,memory_key_padding_mask=audio_pad_mask)\n",
    "        final_out=self.prob_fc(dec_out)\n",
    "        return final_out"
   ]
  },
  {
   "cell_type": "code",
   "execution_count": null,
   "id": "7f1610df",
   "metadata": {},
   "outputs": [],
   "source": [
    "from process_data import load_metadata,load_sample,load_tokenizer\n",
    "\n",
    "tokenizer=load_tokenizer()\n",
    "\n",
    "train_metas=load_metadata('data/train.txt')\n",
    "sample=load_sample(train_metas[0])\n",
    "\n",
    "audio_features=sample['audio_features'].unsqueeze(0)\n",
    "audio_pad_mask=torch.zeros(audio_features.size(0),audio_features.size(1)).bool()\n",
    "token_ids=torch.tensor(sample['tokens'].ids[:-1],dtype=torch.long).unsqueeze(0)\n",
    "token_pad_mask=torch.zeros_like(token_ids).bool()\n",
    "\n",
    "model=TransformerASR(vocab_size=tokenizer.get_vocab_size())\n",
    "dec_out=model(audio_features,audio_pad_mask,token_ids,token_pad_mask)\n",
    "dec_out.shape"
   ]
  },
  {
   "cell_type": "markdown",
   "id": "b166dfd2",
   "metadata": {},
   "source": [
    "数据集"
   ]
  },
  {
   "cell_type": "code",
   "execution_count": null,
   "id": "a04a8523",
   "metadata": {},
   "outputs": [],
   "source": [
    "class LRS2Dataset:\n",
    "    def __init__(self,split='train'):\n",
    "        self.metas=load_metadata(f'data/{split}.txt')\n",
    "    \n",
    "    def __len__(self):\n",
    "        return len(self.metas)\n",
    "    \n",
    "    def __getitem__(self,idx):\n",
    "        metaname=self.metas[idx]\n",
    "        sample=load_sample(metaname)\n",
    "        \n",
    "        audio_features=sample['audio_features']\n",
    "        token_ids=torch.tensor(sample['tokens'].ids,dtype=torch.long)\n",
    "        return audio_features,token_ids"
   ]
  },
  {
   "cell_type": "code",
   "execution_count": null,
   "id": "f0f1ecb0",
   "metadata": {},
   "outputs": [],
   "source": [
    "train_ds=LRS2Dataset(split='train')\n",
    "audio_features,token_ids=train_ds[0]\n",
    "print(f'audio_features:{audio_features.shape},token_ids:{token_ids.shape}')"
   ]
  },
  {
   "cell_type": "markdown",
   "id": "d3663512",
   "metadata": {},
   "source": [
    "训练"
   ]
  },
  {
   "cell_type": "code",
   "execution_count": null,
   "id": "a7762cce",
   "metadata": {},
   "outputs": [],
   "source": [
    "LR=1e-5\n",
    "EPOCHS=2\n",
    "BATCH_SIZE=24"
   ]
  },
  {
   "cell_type": "code",
   "execution_count": null,
   "id": "43636200",
   "metadata": {},
   "outputs": [],
   "source": [
    "import torch.utils\n",
    "\n",
    "def collate_fn(batch):\n",
    "    batch_audio_features=[]\n",
    "    batch_token_ids=[]\n",
    "    batch_token_pad_mask=[]\n",
    "    max_audio_steps=0\n",
    "    max_token_lens=0\n",
    "    for sample in batch:\n",
    "        batch_audio_features.append(sample[0])\n",
    "        batch_token_ids.append(sample[1])\n",
    "        max_audio_steps=max(max_audio_steps,len(sample[0]))\n",
    "        max_token_lens=max(max_token_lens,len(sample[1]))\n",
    "    # audio features padding zero\n",
    "    batch_audio_pad_mask=[]\n",
    "    for i,audio_features in enumerate(batch_audio_features):\n",
    "        batch_audio_features[i]=torch.cat([audio_features,torch.zeros(max_audio_steps-len(audio_features),audio_features.shape[1])])\n",
    "        batch_audio_pad_mask.append(torch.cat([torch.ones(len(audio_features)),torch.zeros(max_audio_steps-len(audio_features))]))\n",
    "    # token ids padding [PAD]\n",
    "    pad=tokenizer.token_to_id('[PAD]')\n",
    "    for i,token_ids in enumerate(batch_token_ids):\n",
    "        batch_token_ids[i]=torch.cat([token_ids,torch.full((max_token_lens-len(token_ids),),pad)])\n",
    "        batch_token_pad_mask.append(torch.cat([torch.ones(len(token_ids)),torch.zeros(max_token_lens-len(token_ids))]))\n",
    "    \n",
    "    # decoder inputs & outputs\n",
    "    batch_next_token_ids=[]\n",
    "    for i,token_ids in enumerate(batch_token_ids):\n",
    "        batch_next_token_ids.append(token_ids[1:])\n",
    "        batch_token_ids[i]=token_ids[:-1]\n",
    "        batch_token_pad_mask[i]=batch_token_pad_mask[i][:-1]\n",
    "    return torch.stack(batch_audio_features,dim=0),\\\n",
    "        torch.stack(batch_audio_pad_mask,dim=0),\\\n",
    "        torch.stack(batch_token_ids,dim=0),\\\n",
    "        torch.stack(batch_token_pad_mask,dim=0),\\\n",
    "        torch.stack(batch_next_token_ids,dim=0)\n",
    "        \n",
    "train_ds=LRS2Dataset(split='train')\n",
    "dataloader=torch.utils.data.DataLoader(dataset=train_ds,batch_size=BATCH_SIZE,shuffle=True,collate_fn=collate_fn)\n",
    "batch_audio_features,batch_audio_pad_mask,batch_token_ids,batch_token_pad_mask,batch_next_token_ids=next(iter(dataloader))\n",
    "# 打印所有形状\n",
    "print(f'''\n",
    "batch_audio_features.shape: {batch_audio_features.shape} \n",
    "batch_audio_pad_mask.shape: {batch_audio_pad_mask.shape} \n",
    "batch_token_ids.shape: {batch_token_ids.shape} \n",
    "batch_token_pad_mask.shape: {batch_token_pad_mask.shape} \n",
    "batch_next_token_ids.shape: {batch_next_token_ids.shape}\n",
    "''')"
   ]
  },
  {
   "cell_type": "code",
   "execution_count": null,
   "id": "d9dbdafb",
   "metadata": {},
   "outputs": [],
   "source": [
    "import time\n",
    "import swanlab #pip install swanlab\n",
    "#swanlab.login(api_key='your-api-key', save=True)\n",
    "\n",
    "def train(use_swanlab=False):    \n",
    "    train_ds=LRS2Dataset(split='train')\n",
    "    dataloader=torch.utils.data.DataLoader(dataset=train_ds,batch_size=BATCH_SIZE,shuffle=True,collate_fn=collate_fn)\n",
    "    model=TransformerASR(vocab_size=tokenizer.get_vocab_size()).to(device)\n",
    "    optimizer=torch.optim.Adam(model.parameters(),lr=LR)\n",
    "    if use_swanlab:\n",
    "        swanlab.init(\n",
    "            project='transformer-acr',\n",
    "            experiment_name=f'experiment-{time.strftime(\"%Y%m%d-%H%M%S\")}',\n",
    "            description='Transformer ASR Training With LRS2 Dataset',\n",
    "            config={\n",
    "                'lr':LR,\n",
    "                'architecture':str(model),\n",
    "                'dataset':'LRS2',\n",
    "                'epochs':EPOCHS,\n",
    "                'batch_size':BATCH_SIZE,\n",
    "            }\n",
    "        )\n",
    "    model.train()\n",
    "    for epoch in range(EPOCHS):\n",
    "        for batch_audio_features,batch_audio_pad_mask,batch_token_ids,batch_token_pad_mask,batch_next_token_ids in dataloader:\n",
    "            batch_audio_features,batch_audio_pad_mask,batch_token_ids,batch_token_pad_mask,batch_next_token_ids=batch_audio_features.to(device),batch_audio_pad_mask.to(device),batch_token_ids.to(device),batch_token_pad_mask.to(device),batch_next_token_ids.to(device)\n",
    "            probs=model(batch_audio_features,batch_audio_pad_mask,batch_token_ids,batch_token_pad_mask)\n",
    "            if use_swanlab:\n",
    "                #swanlab.log({'epoch':epoch,'samples':batch_audio_features.size(0)})\n",
    "                pass\n",
    "    if use_swanlab:\n",
    "        swanlab.finish()"
   ]
  }
 ],
 "metadata": {
  "kernelspec": {
   "display_name": "transformer-acr",
   "language": "python",
   "name": "python3"
  },
  "language_info": {
   "codemirror_mode": {
    "name": "ipython",
    "version": 3
   },
   "file_extension": ".py",
   "mimetype": "text/x-python",
   "name": "python",
   "nbconvert_exporter": "python",
   "pygments_lexer": "ipython3",
   "version": "3.10.16"
  }
 },
 "nbformat": 4,
 "nbformat_minor": 5
}
